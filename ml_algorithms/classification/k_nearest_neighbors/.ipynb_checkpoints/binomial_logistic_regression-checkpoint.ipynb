{
 "cells": [
  {
   "cell_type": "markdown",
   "metadata": {},
   "source": [
    "So far, we have only discussed regression modelling. However, there is another type of modelling called classification modelling. The primary difference between regression models and classification models is that while regression models are used to predict a quantity, classification models are used to predict a category.\n",
    "\n",
    "For example, in my post on [simple linear regression](http://www.enlistq.com/implementing-simple-linear-regression-model-in-python/), we tried to predict soda sales through day's temperature. Total sales of soda (our label) is a quantitative value and hence we used a regression model. In the example today, we are going to predict whether someone will purchase soda or not by looking at day's temperature. Here we have two categories, whether customer will purchase or not purchase soda. This makes our label (dependent variable) categorical and suitable for logistic regression.\n",
    "\n",
    "As there were different variations of linear regression model, we also have different types of logistic regression model. They are:\n",
    "1. Binomial logistic regression - label is restricted to two values which can be seen as yes/no, success/failure or in our case: will purchase/will not purchase. \n",
    "2. Multinomial logistic regression - label has more than two values such as predicting type of flower based on length and width of leaves.\n",
    "\n",
    "Hold on a second? If logistic regression is a classification model then why does it have 'regression' in its name? That is a great point and the reason is that logistic regression model heavily uses linear regression model in calculating the coefficients. \n",
    "\n",
    "For example, here is a linear regression equation:\n",
    "![linear regression](https://wikimedia.org/api/rest_v1/media/math/render/svg/0c3243c8f62b9416119fd46c2b9eb0e70e40037b)\n",
    "\n",
    "We first use linear regression to calculate the coefficients and then feed them into the logistic function to calculate the probability of outcome and then we use this probability to pick the appropriate category.\n",
    "\n",
    "Here is the logistic function:\n",
    "![logistic function](https://wikimedia.org/api/rest_v1/media/math/render/svg/57fa62921bfe1721bca86f8db39f44f4c1094cd5)\n",
    "\n",
    "In the above equation, F(x) is the probability of the dependent variable leading to a 'success' (or 1) instead of a 'failure' (or 0). For our example, it will tell us whether a customer will purchase or not purchase soda. \n",
    "\n",
    "Once we have the probabilities, we can use a threshold to decide which category they belong to. Given this is a binomial logistic regression, our threshold is 0.5 (50%) so if the probability is 0.3 (less than 0.5) then our customer will not purchase soda but if it is 0.7 then the customer will purchase soda.\n",
    "\n",
    "To read more about binomial logistic regression, I recommend checking out this [wikipedia page](https://www.wikiwand.com/en/Logistic_regression).\n",
    "\n",
    "\n",
    "## How can I implement binomial logistic regression model?\n",
    "\n",
    "Implementing a binomial logistic regression model is very similar to implementing a simple linear regression model.\n",
    "Here are the steps we are going to follow as usual:\n",
    "\n",
    "- Exploring the dataset\n",
    "- Splitting the dataset into training and testing set\n",
    "- Building the model\n",
    "- Evaluating the model"
   ]
  },
  {
   "cell_type": "markdown",
   "metadata": {},
   "source": [
    "## Exploring the dataset\n",
    "For this example, I have created a sample dataset with two columns: temperature (feature) and purchase (label).  'purchase' can have two values: 0 or 1 where 0 means customer will not purchase and 1 means that customer will purchase soda.\n",
    "\n",
    "Our task is to build a model that we can use to predict whether a customer will purchase soda or not based on temperature."
   ]
  },
  {
   "cell_type": "code",
   "execution_count": 12,
   "metadata": {},
   "outputs": [
    {
     "data": {
      "text/html": [
       "<div>\n",
       "<style>\n",
       "    .dataframe thead tr:only-child th {\n",
       "        text-align: right;\n",
       "    }\n",
       "\n",
       "    .dataframe thead th {\n",
       "        text-align: left;\n",
       "    }\n",
       "\n",
       "    .dataframe tbody tr th {\n",
       "        vertical-align: top;\n",
       "    }\n",
       "</style>\n",
       "<table border=\"1\" class=\"dataframe\">\n",
       "  <thead>\n",
       "    <tr style=\"text-align: right;\">\n",
       "      <th></th>\n",
       "      <th>temperature</th>\n",
       "      <th>purchase</th>\n",
       "    </tr>\n",
       "  </thead>\n",
       "  <tbody>\n",
       "    <tr>\n",
       "      <th>0</th>\n",
       "      <td>20</td>\n",
       "      <td>0</td>\n",
       "    </tr>\n",
       "    <tr>\n",
       "      <th>1</th>\n",
       "      <td>22</td>\n",
       "      <td>0</td>\n",
       "    </tr>\n",
       "    <tr>\n",
       "      <th>2</th>\n",
       "      <td>42</td>\n",
       "      <td>0</td>\n",
       "    </tr>\n",
       "    <tr>\n",
       "      <th>3</th>\n",
       "      <td>23</td>\n",
       "      <td>0</td>\n",
       "    </tr>\n",
       "    <tr>\n",
       "      <th>4</th>\n",
       "      <td>45</td>\n",
       "      <td>0</td>\n",
       "    </tr>\n",
       "  </tbody>\n",
       "</table>\n",
       "</div>"
      ],
      "text/plain": [
       "   temperature  purchase\n",
       "0           20         0\n",
       "1           22         0\n",
       "2           42         0\n",
       "3           23         0\n",
       "4           45         0"
      ]
     },
     "execution_count": 12,
     "metadata": {},
     "output_type": "execute_result"
    }
   ],
   "source": [
    "# Let's load the data into python and take a look at it\n",
    "import pandas as pd\n",
    "import matplotlib.pyplot as plt\n",
    "%matplotlib inline  \n",
    "\n",
    "dataset = pd.read_csv(r'soda_purchase.csv')\n",
    "\n",
    "dataset.head()"
   ]
  },
  {
   "cell_type": "code",
   "execution_count": 13,
   "metadata": {},
   "outputs": [
    {
     "data": {
      "text/html": [
       "<div>\n",
       "<style>\n",
       "    .dataframe thead tr:only-child th {\n",
       "        text-align: right;\n",
       "    }\n",
       "\n",
       "    .dataframe thead th {\n",
       "        text-align: left;\n",
       "    }\n",
       "\n",
       "    .dataframe tbody tr th {\n",
       "        vertical-align: top;\n",
       "    }\n",
       "</style>\n",
       "<table border=\"1\" class=\"dataframe\">\n",
       "  <thead>\n",
       "    <tr style=\"text-align: right;\">\n",
       "      <th></th>\n",
       "      <th>temperature</th>\n",
       "      <th>purchase</th>\n",
       "    </tr>\n",
       "  </thead>\n",
       "  <tbody>\n",
       "    <tr>\n",
       "      <th>count</th>\n",
       "      <td>42.000000</td>\n",
       "      <td>42.000000</td>\n",
       "    </tr>\n",
       "    <tr>\n",
       "      <th>mean</th>\n",
       "      <td>58.095238</td>\n",
       "      <td>0.500000</td>\n",
       "    </tr>\n",
       "    <tr>\n",
       "      <th>std</th>\n",
       "      <td>22.506161</td>\n",
       "      <td>0.506061</td>\n",
       "    </tr>\n",
       "    <tr>\n",
       "      <th>min</th>\n",
       "      <td>20.000000</td>\n",
       "      <td>0.000000</td>\n",
       "    </tr>\n",
       "    <tr>\n",
       "      <th>25%</th>\n",
       "      <td>40.500000</td>\n",
       "      <td>0.000000</td>\n",
       "    </tr>\n",
       "    <tr>\n",
       "      <th>50%</th>\n",
       "      <td>59.000000</td>\n",
       "      <td>0.500000</td>\n",
       "    </tr>\n",
       "    <tr>\n",
       "      <th>75%</th>\n",
       "      <td>75.500000</td>\n",
       "      <td>1.000000</td>\n",
       "    </tr>\n",
       "    <tr>\n",
       "      <th>max</th>\n",
       "      <td>96.000000</td>\n",
       "      <td>1.000000</td>\n",
       "    </tr>\n",
       "  </tbody>\n",
       "</table>\n",
       "</div>"
      ],
      "text/plain": [
       "       temperature   purchase\n",
       "count    42.000000  42.000000\n",
       "mean     58.095238   0.500000\n",
       "std      22.506161   0.506061\n",
       "min      20.000000   0.000000\n",
       "25%      40.500000   0.000000\n",
       "50%      59.000000   0.500000\n",
       "75%      75.500000   1.000000\n",
       "max      96.000000   1.000000"
      ]
     },
     "execution_count": 13,
     "metadata": {},
     "output_type": "execute_result"
    }
   ],
   "source": [
    "# Let's get some more information about our dataset\n",
    "dataset.describe()"
   ]
  },
  {
   "cell_type": "markdown",
   "metadata": {},
   "source": [
    "We can see there are 42 rows and 2 columns in our table. The mean of temperature and units_sold is 58.1 F and as expected, 0.5 for purchase since it only has two values (0 and 1).\n",
    "\n",
    "Let's visualize the dataset. "
   ]
  },
  {
   "cell_type": "code",
   "execution_count": 29,
   "metadata": {},
   "outputs": [
    {
     "data": {
      "image/png": "[encoded data removed]",
      "text/plain": [
       "<matplotlib.figure.Figure at 0x10ad10d68>"
      ]
     },
     "metadata": {},
     "output_type": "display_data"
    }
   ],
   "source": [
    "# Scatter plot\n",
    "plt.scatter(dataset.temperature, dataset.purchase);\n",
    "plt.title('Temperature vs purchase decision (Training set)');\n",
    "plt.grid();\n",
    "plt.xlabel('temperature');\n",
    "plt.ylabel('purchased or not');"
   ]
  },
  {
   "cell_type": "markdown",
   "metadata": {},
   "source": [
    "As you can see, the graph shows there are only two values for 'purchase' (0 and 1). We can see that when the temperature dips below approximately 40F, all the customers do not buy soda. However, when the temperature is approximately above 83F, all our customer purchase soda. In between these two temperatures, 40F and 83F, we have some temperatures where sometimes customers bought soda but didn't other times. "
   ]
  },
  {
   "cell_type": "markdown",
   "metadata": {},
   "source": [
    "## Preprocessing the dataset\n",
    "Preprocessing the dataset is necessary most of the times but since this is dummy data that I created, we don't need to change anything. There is no missing data so we don't need to fill any values. \n",
    "\n",
    "Only thing we need to do is split the dataset into dependent variable and independent variable so that we can feed it to our machine learning model. \n",
    "\n",
    "Keep in mind, that life is never this easy and data preprocessing is a very crucial step in the machine learning process and often the most time consuming. "
   ]
  },
  {
   "cell_type": "code",
   "execution_count": 14,
   "metadata": {
    "collapsed": true
   },
   "outputs": [],
   "source": [
    "X = dataset.iloc[:, :-1].values\n",
    "y = dataset.iloc[:, 1].values"
   ]
  },
  {
   "cell_type": "markdown",
   "metadata": {},
   "source": [
    "## Splitting the dataset into training and testing set\n",
    "Binomial logistic regression model is a supervised learning model (see my earlier post on [supervised and unsupervised models](http://www.enlistq.com/difference-between-supervised-and-unsupervised-learning-models/)) which means we need to feed it some data first to train it. And, once it is trained, we need to test it on a different set of data to evaluate it. To do this, we need to split our dataset into training and testing set. Rule of thumb is to assign 80% of the dataset to training and 20% to testing but to change things up a bit, I am going for a 60-40 split this time. "
   ]
  },
  {
   "cell_type": "code",
   "execution_count": 15,
   "metadata": {
    "collapsed": true
   },
   "outputs": [],
   "source": [
    "from sklearn.model_selection import train_test_split\n",
    "X_train, X_test, y_train, y_test = train_test_split(X, y, test_size = 0.4)"
   ]
  },
  {
   "cell_type": "markdown",
   "metadata": {},
   "source": [
    "At this point, we have four different arrays:\n",
    "- X_train - independent variable (training set)\n",
    "- X_test - independent variable (testing set)\n",
    "- y_train - dependent variable (training set)\n",
    "- y_test - dependent variable (testing set)"
   ]
  },
  {
   "cell_type": "markdown",
   "metadata": {},
   "source": [
    "## Building the model\n",
    "This is the step where we actually build our model."
   ]
  },
  {
   "cell_type": "code",
   "execution_count": 30,
   "metadata": {
    "collapsed": true
   },
   "outputs": [],
   "source": [
    "from sklearn.linear_model import LogisticRegression\n",
    "\n",
    "# Create classifier using logistic regression\n",
    "classifier = LogisticRegression()\n",
    "\n",
    "# Training our model\n",
    "classifier.fit(X_train, y_train)\n",
    "\n",
    "# Predicting values using our trained model\n",
    "y_pred = classifier.predict(X_test)"
   ]
  },
  {
   "cell_type": "markdown",
   "metadata": {
    "collapsed": true
   },
   "source": [
    "We now have our predicted values, y_pred, and our actual values, y_test. Let's visualize the predicted values."
   ]
  },
  {
   "cell_type": "code",
   "execution_count": 23,
   "metadata": {},
   "outputs": [
    {
     "data": {
      "image/png": "[encoded data removed]",
      "text/plain": [
       "<matplotlib.figure.Figure at 0x10ac1a780>"
      ]
     },
     "metadata": {},
     "output_type": "display_data"
    }
   ],
   "source": [
    "# Let's see how well the model does against our test data.\n",
    "plt.scatter(X_test, y_test, color = 'red')\n",
    "plt.plot(sorted(X_test), sorted(y_pred), '--',color = 'blue')\n",
    "plt.title('Temperature vs purchase decision (Test set)')\n",
    "plt.xlabel('temperature')\n",
    "plt.ylabel('purchase or not')\n",
    "plt.grid()\n",
    "plt.show()"
   ]
  },
  {
   "cell_type": "markdown",
   "metadata": {},
   "source": [
    "In the graph above, any dot with a line going through is a correct prediction. So, in this example, we have 5 dots where there is no line going through them. These are instances where we predicted incorrect category. "
   ]
  },
  {
   "cell_type": "markdown",
   "metadata": {},
   "source": [
    "## Evaluating the model"
   ]
  },
  {
   "cell_type": "markdown",
   "metadata": {},
   "source": [
    "Looking at the graph above, we saw that there are 5 predictions that were incorrect out of 17 observations. However, how can we quantify performance of our model? A popular way to evaluate performance of a classification model is by using a confusion matrix. \n",
    "\n",
    "### What is a confusion matrix?\n",
    "A confusion matrix is a 2x2 matrix which contains four values:\n",
    "1. True positive (TP) - we predict 'yes' and actual result is 'yes'\n",
    "2. False positive (FP) - we predict 'yes' and actual result is 'no'\n",
    "3. True negative (TN) - we predict 'no' and actual result is 'no'\n",
    "4. False negative (FN) - we predict 'no' and actual result is 'yes'\n",
    "\n",
    "You can combine these four values in different ways to come up with a performance matrix. Some common ones are:\n",
    "1. Accuracy - Success rate of our model given by (correct predictions) / (total predictions)\n",
    "2. Misclassification - Failure rate of our model given by (incorrect predictions) / (total predictions)\n",
    "3. True positive rate - Rate of predicting 'yes' when it's a 'yes' given by TP/(actual yes)\n",
    "4. False positive rate - Rate of predicting 'yes' when it's a 'no' give by FP/(actual no)\n",
    "\n",
    "There are few more that you can read more about [here](http://www.dataschool.io/simple-guide-to-confusion-matrix-terminology/)."
   ]
  },
  {
   "cell_type": "code",
   "execution_count": 31,
   "metadata": {},
   "outputs": [
    {
     "name": "stdout",
     "output_type": "stream",
     "text": [
      "[[5 4]\n",
      " [1 7]]\n"
     ]
    }
   ],
   "source": [
    "# Generating a confusion matrix\n",
    "from sklearn.metrics import confusion_matrix\n",
    "conf_matrix = confusion_matrix(y_test, y_pred)\n",
    "\n",
    "print(conf_matrix)"
   ]
  },
  {
   "cell_type": "markdown",
   "metadata": {
    "collapsed": true
   },
   "source": [
    "Let's calculate some of the performance metrics we mentioned above:\n",
    "1. Accuracy - (5+7)/(17) = 70.6%\n",
    "2. Misclassification - (4+1)/(17) = 29.4%\n",
    "3. True positive rate - (7)/8 = 87.5%\n",
    "4. False positive rate - (4)/9 = 44.4%\n",
    "\n",
    "Accuracy is the most popular metric but others can be important for different datasets. Our accuracy is 70.6% which is decent but not great."
   ]
  }
 ],
 "metadata": {
  "kernelspec": {
   "display_name": "Python 3",
   "language": "python",
   "name": "python3"
  },
  "language_info": {
   "codemirror_mode": {
    "name": "ipython",
    "version": 3
   },
   "file_extension": ".py",
   "mimetype": "text/x-python",
   "name": "python",
   "nbconvert_exporter": "python",
   "pygments_lexer": "ipython3",
   "version": "3.6.1"
  }
 },
 "nbformat": 4,
 "nbformat_minor": 2
}
