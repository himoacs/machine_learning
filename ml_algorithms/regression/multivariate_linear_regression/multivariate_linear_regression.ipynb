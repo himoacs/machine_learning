{
 "cells": [
  {
   "cell_type": "markdown",
   "metadata": {},
   "source": [
    "# Implementing a Multivariate Linear Regression model in python\n",
    "Earlier, I wrote about how to implement a simple linear regression (SLR) model in python. SLR is probably the easiest model to implement among the most popular machine learning algorithms. In this post, we are going to take it one step further and instead of working with just one independent variable, we will be working with multiple independent variables. Such a model is called a multivariate linear regression (MLR) model. \n",
    "\n",
    "## How does the model work?\n",
    "A multivariate linear model can be described by a linear equation consisting of multiple independent variables. \n",
    "\n",
    "For example: ![title](https://wikimedia.org/api/rest_v1/media/math/render/svg/0c3243c8f62b9416119fd46c2b9eb0e70e40037b)\n",
    "\n",
    "In this equation, ß (beta) defines all the coefficients, x defines all the independent variables and y defines dependent variable.\n",
    "\n",
    "An SLR model is a simplified version of an MLR model where there is only one x. Linear regression models use a technique called Ordinary Least Squares (OLS) to find the optimum value for the betas. OLS consists of calculating the error which is the difference between predicted value and actual value and then taking square of it. The goal is to find the betas that minimize the sum of the squared errors.\n",
    "\n",
    "If you want to learn more about SLM and OLS, I highly recommend this [visual explanation](http://setosa.io/ev/ordinary-least-squares-regression/)."
   ]
  },
  {
   "cell_type": "markdown",
   "metadata": {},
   "source": [
    "## How can I implement MLR model?\n",
    "Implementing an MLR model is pretty much the same as implementing an SLR model. The only difference is that because you have additional independent variables, you need to make sure you select only the most relevant features/independent varibles in your final model. Not all of your data is necessary to build your model. In fact, most of the times, a lot of your data will be garbage and as you know garbige in means garbage out! The process of refining your model by selecting ideal features is called 'feature selection'. I will not be covering that in this post but will definitely do in a separate post. \n",
    "\n",
    "As discussed before, we are going to be following these steps:\n",
    "- Exploring the dataset\n",
    "- Preprocessing the dataset\n",
    "- Splitting the dataset into training and testing set\n",
    "- Building the model\n",
    "- Evaluating the model"
   ]
  },
  {
   "cell_type": "markdown",
   "metadata": {},
   "source": [
    "## Exploring the dataset\n",
    "We will be working with automobile dataset provided by [UCI](https://archive.ics.uci.edu/ml/datasets/Automobile). This dataset has a lot of features and instead of looking at them all, we will select only a few important ones for simplicity. "
   ]
  },
  {
   "cell_type": "code",
   "execution_count": 185,
   "metadata": {},
   "outputs": [],
   "source": [
    "# Let's load the data into python and take a look at it\n",
    "import pandas as pd\n",
    "import matplotlib.pyplot as plt\n",
    "%matplotlib inline  \n",
    "\n",
    "# Loading entire dataset\n",
    "dataset = pd.read_csv(r'/Users/himanshugupta/machine_learning/ml_algorithms/regression/multivariate_linear_regression/car_data.csv', names=['symboling','normalized_losses','make','fuel_type','aspiration','num_of_doors','body_style','drive_wheels','engine_location','wheel_base','length','width','height','curb_weight','engine_type','num_of_cylinders','engine_size','fuel_system','bore','stroke','compression_ratio','horsepower','peak_rpm','city_mpg','highway_mpg','price'], index_col=None)\n",
    "\n",
    "# Select few important columns\n",
    "dataset = dataset[['make', 'engine_size', 'horsepower', 'price']]"
   ]
  },
  {
   "cell_type": "markdown",
   "metadata": {},
   "source": [
    "As we can see below, our dataset has four columns: \n",
    "- make: car company\n",
    "- engine_size: size of the engine\n",
    "- horsepower: horsepower\n",
    "- price: price of the car"
   ]
  },
  {
   "cell_type": "code",
   "execution_count": 186,
   "metadata": {},
   "outputs": [
    {
     "data": {
      "text/html": [
       "<div>\n",
       "<style>\n",
       "    .dataframe thead tr:only-child th {\n",
       "        text-align: right;\n",
       "    }\n",
       "\n",
       "    .dataframe thead th {\n",
       "        text-align: left;\n",
       "    }\n",
       "\n",
       "    .dataframe tbody tr th {\n",
       "        vertical-align: top;\n",
       "    }\n",
       "</style>\n",
       "<table border=\"1\" class=\"dataframe\">\n",
       "  <thead>\n",
       "    <tr style=\"text-align: right;\">\n",
       "      <th></th>\n",
       "      <th>make</th>\n",
       "      <th>engine_size</th>\n",
       "      <th>horsepower</th>\n",
       "      <th>price</th>\n",
       "    </tr>\n",
       "  </thead>\n",
       "  <tbody>\n",
       "    <tr>\n",
       "      <th>0</th>\n",
       "      <td>alfa-romero</td>\n",
       "      <td>130</td>\n",
       "      <td>111</td>\n",
       "      <td>13495</td>\n",
       "    </tr>\n",
       "    <tr>\n",
       "      <th>1</th>\n",
       "      <td>alfa-romero</td>\n",
       "      <td>130</td>\n",
       "      <td>111</td>\n",
       "      <td>16500</td>\n",
       "    </tr>\n",
       "    <tr>\n",
       "      <th>2</th>\n",
       "      <td>alfa-romero</td>\n",
       "      <td>152</td>\n",
       "      <td>154</td>\n",
       "      <td>16500</td>\n",
       "    </tr>\n",
       "    <tr>\n",
       "      <th>3</th>\n",
       "      <td>audi</td>\n",
       "      <td>109</td>\n",
       "      <td>102</td>\n",
       "      <td>13950</td>\n",
       "    </tr>\n",
       "    <tr>\n",
       "      <th>4</th>\n",
       "      <td>audi</td>\n",
       "      <td>136</td>\n",
       "      <td>115</td>\n",
       "      <td>17450</td>\n",
       "    </tr>\n",
       "  </tbody>\n",
       "</table>\n",
       "</div>"
      ],
      "text/plain": [
       "          make  engine_size horsepower  price\n",
       "0  alfa-romero          130        111  13495\n",
       "1  alfa-romero          130        111  16500\n",
       "2  alfa-romero          152        154  16500\n",
       "3         audi          109        102  13950\n",
       "4         audi          136        115  17450"
      ]
     },
     "execution_count": 186,
     "metadata": {},
     "output_type": "execute_result"
    }
   ],
   "source": [
    "dataset.head()"
   ]
  },
  {
   "cell_type": "code",
   "execution_count": 160,
   "metadata": {},
   "outputs": [
    {
     "data": {
      "text/html": [
       "<div>\n",
       "<style>\n",
       "    .dataframe thead tr:only-child th {\n",
       "        text-align: right;\n",
       "    }\n",
       "\n",
       "    .dataframe thead th {\n",
       "        text-align: left;\n",
       "    }\n",
       "\n",
       "    .dataframe tbody tr th {\n",
       "        vertical-align: top;\n",
       "    }\n",
       "</style>\n",
       "<table border=\"1\" class=\"dataframe\">\n",
       "  <thead>\n",
       "    <tr style=\"text-align: right;\">\n",
       "      <th></th>\n",
       "      <th>make</th>\n",
       "      <th>engine_size</th>\n",
       "      <th>horsepower</th>\n",
       "      <th>price</th>\n",
       "    </tr>\n",
       "  </thead>\n",
       "  <tbody>\n",
       "    <tr>\n",
       "      <th>0</th>\n",
       "      <td>alfa-romero</td>\n",
       "      <td>130</td>\n",
       "      <td>111</td>\n",
       "      <td>13495</td>\n",
       "    </tr>\n",
       "    <tr>\n",
       "      <th>1</th>\n",
       "      <td>alfa-romero</td>\n",
       "      <td>130</td>\n",
       "      <td>111</td>\n",
       "      <td>16500</td>\n",
       "    </tr>\n",
       "    <tr>\n",
       "      <th>2</th>\n",
       "      <td>alfa-romero</td>\n",
       "      <td>152</td>\n",
       "      <td>154</td>\n",
       "      <td>16500</td>\n",
       "    </tr>\n",
       "    <tr>\n",
       "      <th>3</th>\n",
       "      <td>audi</td>\n",
       "      <td>109</td>\n",
       "      <td>102</td>\n",
       "      <td>13950</td>\n",
       "    </tr>\n",
       "    <tr>\n",
       "      <th>4</th>\n",
       "      <td>audi</td>\n",
       "      <td>136</td>\n",
       "      <td>115</td>\n",
       "      <td>17450</td>\n",
       "    </tr>\n",
       "    <tr>\n",
       "      <th>5</th>\n",
       "      <td>audi</td>\n",
       "      <td>136</td>\n",
       "      <td>110</td>\n",
       "      <td>15250</td>\n",
       "    </tr>\n",
       "    <tr>\n",
       "      <th>6</th>\n",
       "      <td>audi</td>\n",
       "      <td>136</td>\n",
       "      <td>110</td>\n",
       "      <td>17710</td>\n",
       "    </tr>\n",
       "    <tr>\n",
       "      <th>7</th>\n",
       "      <td>audi</td>\n",
       "      <td>136</td>\n",
       "      <td>110</td>\n",
       "      <td>18920</td>\n",
       "    </tr>\n",
       "    <tr>\n",
       "      <th>8</th>\n",
       "      <td>audi</td>\n",
       "      <td>131</td>\n",
       "      <td>140</td>\n",
       "      <td>23875</td>\n",
       "    </tr>\n",
       "    <tr>\n",
       "      <th>9</th>\n",
       "      <td>audi</td>\n",
       "      <td>131</td>\n",
       "      <td>160</td>\n",
       "      <td>?</td>\n",
       "    </tr>\n",
       "  </tbody>\n",
       "</table>\n",
       "</div>"
      ],
      "text/plain": [
       "          make  engine_size horsepower  price\n",
       "0  alfa-romero          130        111  13495\n",
       "1  alfa-romero          130        111  16500\n",
       "2  alfa-romero          152        154  16500\n",
       "3         audi          109        102  13950\n",
       "4         audi          136        115  17450\n",
       "5         audi          136        110  15250\n",
       "6         audi          136        110  17710\n",
       "7         audi          136        110  18920\n",
       "8         audi          131        140  23875\n",
       "9         audi          131        160      ?"
      ]
     },
     "execution_count": 160,
     "metadata": {},
     "output_type": "execute_result"
    }
   ],
   "source": [
    "# Taking a deeper look, we can see that we have missing values denoted as '?' in our dataset\n",
    "# For example, in the example below, you can see that last row has a price of '?' which doesn't make sense.\n",
    "dataset[:10]"
   ]
  },
  {
   "cell_type": "code",
   "execution_count": 161,
   "metadata": {
    "collapsed": true
   },
   "outputs": [],
   "source": [
    "# Let's remove these '?' values from our dataset entirely\n",
    "import numpy as np\n",
    "dataset = dataset.replace('?', np.nan)\n",
    "\n",
    "# Let's drop any null values\n",
    "dataset = dataset.dropna()"
   ]
  },
  {
   "cell_type": "markdown",
   "metadata": {},
   "source": [
    "Now, we are going to plot to scatter plots to see if there is any obvious relationship between our independent variables (features) and price. Of course, we can't plot 'make' so we will only focus on engine_size and horsepower."
   ]
  },
  {
   "cell_type": "code",
   "execution_count": 162,
   "metadata": {},
   "outputs": [
    {
     "data": {
      "image/png": "[encoded data removed]",
      "text/plain": [
       "<matplotlib.figure.Figure at 0x1140acdd8>"
      ]
     },
     "metadata": {},
     "output_type": "display_data"
    }
   ],
   "source": [
    "# As we can see from the scatter plot below, there seems to be a linear relationship between horsepower and price.\n",
    "# This makes sense because a car with higher horsepower is usually more expensive. \n",
    "plt.scatter(dataset.horsepower, dataset.price);\n",
    "plt.title('Horsepower vs Price');\n",
    "plt.xlabel('horsepower');\n",
    "plt.ylabel('price');"
   ]
  },
  {
   "cell_type": "code",
   "execution_count": 163,
   "metadata": {},
   "outputs": [
    {
     "data": {
      "image/png": "[encoded data removed]",
      "text/plain": [
       "<matplotlib.figure.Figure at 0x1140e5f28>"
      ]
     },
     "metadata": {},
     "output_type": "display_data"
    }
   ],
   "source": [
    "# The graph below also shows that there is a linear relationship between engine size. \n",
    "# We can see that as the engine size increases, the price also goes up. \n",
    "plt.scatter(dataset.engine_size, dataset.price);\n",
    "plt.title('Engine Size vs Price');\n",
    "plt.xlabel('engine size');\n",
    "plt.ylabel('price');"
   ]
  },
  {
   "cell_type": "markdown",
   "metadata": {},
   "source": [
    "## Preprocessing the dataset\n",
    "Looking at the dataset, we can see that we have a categorical feature (make of the car). In one of my [earlier posts](http://www.enlistq.com/feature-encoding-python-using-scikit-learn/), I had covered how to handle categorical features so that they can be fed into our machine learning algorithms. \n",
    "\n",
    "But before we take care of that, let's separate our independent variables from our dependent variable."
   ]
  },
  {
   "cell_type": "code",
   "execution_count": 164,
   "metadata": {
    "collapsed": true
   },
   "outputs": [],
   "source": [
    "X = dataset.iloc[:, :-1].values\n",
    "y = dataset.iloc[:, 3].values"
   ]
  },
  {
   "cell_type": "markdown",
   "metadata": {},
   "source": [
    "Now, let's encode our categorical feature."
   ]
  },
  {
   "cell_type": "code",
   "execution_count": 167,
   "metadata": {},
   "outputs": [],
   "source": [
    "from sklearn.preprocessing import LabelEncoder, OneHotEncoder\n",
    "X_label_encoder = LabelEncoder()\n",
    "X[:,0] = X_label_encoder.fit_transform(X[:,0])\n",
    "one_hot_encoder = OneHotEncoder(categorical_features=[0])\n",
    "X = one_hot_encoder.fit_transform(X).toarray()"
   ]
  },
  {
   "cell_type": "markdown",
   "metadata": {},
   "source": [
    "As we can see below, we now have additional features that replace our categorical feature. Specifically, the number of additional features is equal to different categories that our categorical feature contained. "
   ]
  },
  {
   "cell_type": "code",
   "execution_count": 168,
   "metadata": {},
   "outputs": [
    {
     "data": {
      "text/plain": [
       "array([[   1.,    0.,    0.,    0.,    0.,    0.,    0.,    0.,    0.,\n",
       "           0.,    0.,    0.,    0.,    0.,    0.,    0.,    0.,    0.,\n",
       "           0.,    0.,    0.,  130.,  111.]])"
      ]
     },
     "execution_count": 168,
     "metadata": {},
     "output_type": "execute_result"
    }
   ],
   "source": [
    "X[:1]"
   ]
  },
  {
   "cell_type": "markdown",
   "metadata": {},
   "source": [
    "## Splitting the dataset into training and testing set\n",
    "Let's split our dataset into training and testing sets so that we can build our model using the training set and then evaluate its performance against the testing set."
   ]
  },
  {
   "cell_type": "code",
   "execution_count": 169,
   "metadata": {
    "collapsed": true
   },
   "outputs": [],
   "source": [
    "from sklearn.model_selection import train_test_split\n",
    "X_train, X_test, y_train, y_test = train_test_split(X, y, test_size = 0.2)"
   ]
  },
  {
   "cell_type": "markdown",
   "metadata": {},
   "source": [
    "At this point, we have four different arrays:\n",
    "- X_train - independent variable (training set)\n",
    "- X_test - independent variable (testing set)\n",
    "- y_train - dependent variable (training set)\n",
    "- y_test - dependent variable (testing set)\n",
    "\n",
    "We will use X_train and y_train to train our MLR model and then feed MLR model with X_test to get our predictions. We will compare these predictions that our model gave us with the actual data, y_test. By comparing these two datasets, we can evaluate our model's performance."
   ]
  },
  {
   "cell_type": "markdown",
   "metadata": {},
   "source": [
    "## Building the model\n",
    "We will now train our model using the training dataset. This part of the code is exactly the same as simple linear regression model which is convenient."
   ]
  },
  {
   "cell_type": "code",
   "execution_count": 170,
   "metadata": {},
   "outputs": [],
   "source": [
    "# Training our model\n",
    "from sklearn.linear_model import LinearRegression\n",
    "regressor = LinearRegression()\n",
    "regressor.fit(X_train, y_train)\n",
    "\n",
    "# Predicting values using our trained model\n",
    "y_pred = regressor.predict(X_test)"
   ]
  },
  {
   "cell_type": "markdown",
   "metadata": {},
   "source": [
    "We can see the values of betas (coefficients) that the model decided worked best."
   ]
  },
  {
   "cell_type": "code",
   "execution_count": 171,
   "metadata": {},
   "outputs": [
    {
     "data": {
      "text/plain": [
       "array([  5.04286278e+01,   2.65933264e+03,   5.89083259e+03,\n",
       "        -3.11500003e+03,  -3.80910811e+03,  -2.99683368e+03,\n",
       "        -3.51193600e+03,   5.22456157e+03,  -8.66600634e+02,\n",
       "         1.09736581e+04,  -2.65323515e-12,  -4.58779074e+03,\n",
       "        -3.88836645e+03,   1.40757251e+03,  -4.10575153e+03,\n",
       "         8.14019921e+03,   2.42901088e+02,  -3.62064661e+03,\n",
       "        -3.60193068e+03,  -2.27014471e+03,   1.78462282e+03,\n",
       "         5.76994858e+01,   6.12275217e+01])"
      ]
     },
     "execution_count": 171,
     "metadata": {},
     "output_type": "execute_result"
    }
   ],
   "source": [
    "# We can see that some coefficients are positive while others are negative.\n",
    "regressor.coef_"
   ]
  },
  {
   "cell_type": "code",
   "execution_count": 175,
   "metadata": {
    "collapsed": true
   },
   "outputs": [],
   "source": [
    "# Let's look at the output of y_test and y_pred"
   ]
  },
  {
   "cell_type": "code",
   "execution_count": 176,
   "metadata": {},
   "outputs": [
    {
     "data": {
      "text/plain": [
       "array(['6529', '7957', '13415', '15998', '17669', '41315', '7295', '9988',\n",
       "       '6377', '8845', '21485', '10898', '9960', '6938', '9549', '15580',\n",
       "       '7995', '10945', '12964', '7689', '16500', '10245', '6229', '7053',\n",
       "       '6918', '6338', '7198', '19045', '10198', '13845', '12170', '11248',\n",
       "       '13200', '11900', '6479', '16503', '7463', '34028', '8238', '10595'], dtype=object)"
      ]
     },
     "execution_count": 176,
     "metadata": {},
     "output_type": "execute_result"
    }
   ],
   "source": [
    "y_test"
   ]
  },
  {
   "cell_type": "code",
   "execution_count": 179,
   "metadata": {},
   "outputs": [
    {
     "data": {
      "text/plain": [
       "array([  7614.6939764 ,   8443.88860355,  17550.07110467,  16772.19569363,\n",
       "        12574.47007251,  29743.31738602,   7614.6939764 ,   9720.22189243,\n",
       "         6197.20039611,  11965.73176647,  20621.00508468,   9720.22189243,\n",
       "         9016.16820558,   6988.42875569,   9624.52475558,  14798.00867588,\n",
       "         7160.4198525 ,  10006.22637194,  14719.8856298 ,   7961.84938802,\n",
       "        18899.67212028,  11965.73176647,   5900.55697994,   7730.39025038,\n",
       "         6152.41166731,   6152.41166731,   6988.42875569,  20366.53710178,\n",
       "         9016.16820558,   8140.06019932,  14609.44956647,   9720.22189243,\n",
       "        16644.39222235,  14920.46371923,   6512.59858623,  19442.62761778,\n",
       "         8281.43794547,  32657.87975929,   6988.42875569,  11965.73176647])"
      ]
     },
     "execution_count": 179,
     "metadata": {},
     "output_type": "execute_result"
    }
   ],
   "source": [
    "y_pred"
   ]
  },
  {
   "cell_type": "code",
   "execution_count": 183,
   "metadata": {},
   "outputs": [
    {
     "data": {
      "text/plain": [
       "array([ 7614,  8443, 17550, 16772, 12574, 29743,  7614,  9720,  6197,\n",
       "       11965, 20621,  9720,  9016,  6988,  9624, 14798,  7160, 10006,\n",
       "       14719,  7961, 18899, 11965,  5900,  7730,  6152,  6152,  6988,\n",
       "       20366,  9016,  8140, 14609,  9720, 16644, 14920,  6512, 19442,\n",
       "        8281, 32657,  6988, 11965])"
      ]
     },
     "execution_count": 183,
     "metadata": {},
     "output_type": "execute_result"
    }
   ],
   "source": [
    "# Let's convert all values to integers for better comparison\n",
    "y_pred.astype(int)"
   ]
  },
  {
   "cell_type": "markdown",
   "metadata": {},
   "source": [
    "## Evaluating the Model\n",
    "At this point, we have two arrays with different values of our dependent variable:\n",
    "- y_test - data that we set aside and didn't expost to our model when we were training it\n",
    "- y_pred - data which is the output of our model\n",
    "\n",
    "We would like to compare the two datasets to see how our model performed. How accurate was our model when predicting the price of cars?\n",
    "\n",
    "We are going to use some common metrics like variance score, mean absolute error, mean squared error and r squared error to evaluate our model."
   ]
  },
  {
   "cell_type": "code",
   "execution_count": 172,
   "metadata": {},
   "outputs": [
    {
     "name": "stdout",
     "output_type": "stream",
     "text": [
      "Explained Variance Score: 0.856146798323\n",
      "Mean Absolute Error 1686.02921501\n",
      "Mean Squared Error 7170974.48696\n",
      "R Squared Error 0.856040169966\n"
     ]
    }
   ],
   "source": [
    "from sklearn.metrics import explained_variance_score, mean_absolute_error, mean_squared_error, r2_score\n",
    "ex_var_score = explained_variance_score(y_test, y_pred)\n",
    "m_absolute_error = mean_absolute_error(y_test, y_pred)\n",
    "m_squared_error = mean_squared_error(y_test, y_pred)\n",
    "r_2_score = r2_score(y_test, y_pred)\n",
    "\n",
    "print(\"Explained Variance Score: \"+str(ex_var_score))\n",
    "print(\"Mean Absolute Error \"+str(m_absolute_error))\n",
    "print(\"Mean Squared Error \"+str(m_squared_error))\n",
    "print(\"R Squared Error \"+str(r_2_score))"
   ]
  },
  {
   "cell_type": "markdown",
   "metadata": {},
   "source": [
    "An r squared error of 0.856 is good but not great. I think we can do better. However, I am going to end this post here as we have successfully implemented a multivariate linear regression model in python using scikit learn. In a different post, we will look at the same example with the same dataset and see how we can use feature selection to possibly improve this model!"
   ]
  }
 ],
 "metadata": {
  "kernelspec": {
   "display_name": "Python 3",
   "language": "python",
   "name": "python3"
  },
  "language_info": {
   "codemirror_mode": {
    "name": "ipython",
    "version": 3
   },
   "file_extension": ".py",
   "mimetype": "text/x-python",
   "name": "python",
   "nbconvert_exporter": "python",
   "pygments_lexer": "ipython3",
   "version": "3.6.1"
  }
 },
 "nbformat": 4,
 "nbformat_minor": 2
}
